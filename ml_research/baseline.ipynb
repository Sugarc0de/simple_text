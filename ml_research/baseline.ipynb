{
 "cells": [
  {
   "cell_type": "markdown",
   "metadata": {},
   "source": [
    "### Investigate how good is the frequency baseline "
   ]
  },
  {
   "cell_type": "code",
   "execution_count": 1,
   "metadata": {},
   "outputs": [],
   "source": [
    "import pickle \n",
    "import sys \n",
    "sys.path.append(\"../backend/\")\n",
    "from wordfreq import word_frequency\n",
    "import process_wordlist"
   ]
  },
  {
   "cell_type": "code",
   "execution_count": 2,
   "metadata": {},
   "outputs": [
    {
     "name": "stdout",
     "output_type": "stream",
     "text": [
      "Finished loading the dictionary.\n"
     ]
    },
    {
     "data": {
      "text/plain": [
       "'C2'"
      ]
     },
     "execution_count": 2,
     "metadata": {},
     "output_type": "execute_result"
    }
   ],
   "source": [
    "wl = process_wordlist.Wordlist(curr_dir=\"../backend/\") \n",
    "wl.estimate('abyss')"
   ]
  },
  {
   "cell_type": "code",
   "execution_count": 3,
   "metadata": {},
   "outputs": [],
   "source": [
    "### divide the data into 80-20 splits\n",
    "from sklearn.model_selection import train_test_split\n",
    "import numpy as np \n",
    "\n",
    "with open('../backend/english_profile_wordlist.pickle', 'rb') as handle:\n",
    "    data = pickle.load(handle)"
   ]
  },
  {
   "cell_type": "code",
   "execution_count": 4,
   "metadata": {},
   "outputs": [
    {
     "data": {
      "text/plain": [
       "6605"
      ]
     },
     "execution_count": 4,
     "metadata": {},
     "output_type": "execute_result"
    }
   ],
   "source": [
    "total = 0\n",
    "for level in data: \n",
    "    total += len(data[level][0])\n",
    "total"
   ]
  },
  {
   "cell_type": "code",
   "execution_count": 5,
   "metadata": {},
   "outputs": [
    {
     "name": "stdout",
     "output_type": "stream",
     "text": [
      "level A1 has 591 data points\n",
      "level A2 has 880 data points\n",
      "level B1 has 1399 data points\n",
      "level B2 has 1704 data points\n",
      "level C1 has 1012 data points\n",
      "level C2 has 1019 data points\n"
     ]
    }
   ],
   "source": [
    "# data is a dictionary with key being the level \n",
    "from collections import deque \n",
    "import math \n",
    "\n",
    "X = deque()  \n",
    "y = deque() \n",
    "level_map = {\"A1\": 1, \"A2\": 2, \"B1\": 3, \"B2\": 4, \n",
    "            \"C1\": 5, \"C2\": 6}\n",
    "\n",
    "for level in data:\n",
    "    level_data = data[level][0]\n",
    "    print(\"level {} has {} data points\".format(level, len(level_data)))\n",
    "    level_truth = [level_map[level]]*len(level_data)\n",
    "    X.extend([x for x in level_data])\n",
    "    y.extend([truth for truth in level_truth])"
   ]
  },
  {
   "cell_type": "code",
   "execution_count": 6,
   "metadata": {},
   "outputs": [
    {
     "data": {
      "text/plain": [
       "(6605, 6605, True)"
      ]
     },
     "execution_count": 6,
     "metadata": {},
     "output_type": "execute_result"
    }
   ],
   "source": [
    "X = list(X)\n",
    "y = list(y)\n",
    "len(X), len(y), len(set(y)) == 6"
   ]
  },
  {
   "cell_type": "code",
   "execution_count": 7,
   "metadata": {},
   "outputs": [],
   "source": [
    "X_train_word, X_test_word, y_train_word, y_test_word = train_test_split(np.array(X), np.array(y), \n",
    "                                                    test_size=0.2, random_state=42)"
   ]
  },
  {
   "cell_type": "code",
   "execution_count": 8,
   "metadata": {},
   "outputs": [
    {
     "data": {
      "text/plain": [
       "6605"
      ]
     },
     "execution_count": 8,
     "metadata": {},
     "output_type": "execute_result"
    }
   ],
   "source": [
    "X = [math.log(word_frequency(x, 'en')+1e-7) for x in X]\n",
    "len(X)"
   ]
  },
  {
   "cell_type": "code",
   "execution_count": 9,
   "metadata": {},
   "outputs": [
    {
     "data": {
      "text/plain": [
       "array([], dtype='<U18')"
      ]
     },
     "execution_count": 9,
     "metadata": {},
     "output_type": "execute_result"
    }
   ],
   "source": [
    "X_test_word[X_test_word=='']"
   ]
  },
  {
   "cell_type": "code",
   "execution_count": 10,
   "metadata": {},
   "outputs": [],
   "source": [
    "X_train, X_test, y_train, y_test = train_test_split(np.array(X), np.array(y), \n",
    "                                                    test_size=0.2, random_state=42)"
   ]
  },
  {
   "cell_type": "code",
   "execution_count": 11,
   "metadata": {},
   "outputs": [
    {
     "data": {
      "text/plain": [
       "((5284,), (1321,), (5284,))"
      ]
     },
     "execution_count": 11,
     "metadata": {},
     "output_type": "execute_result"
    }
   ],
   "source": [
    "X_train.shape, X_test.shape, y_train.shape"
   ]
  },
  {
   "cell_type": "code",
   "execution_count": 12,
   "metadata": {},
   "outputs": [
    {
     "data": {
      "text/plain": [
       "LinearRegression(copy_X=True, fit_intercept=True, n_jobs=None, normalize=False)"
      ]
     },
     "execution_count": 12,
     "metadata": {},
     "output_type": "execute_result"
    }
   ],
   "source": [
    "from sklearn import linear_model\n",
    "reg = linear_model.LinearRegression()\n",
    "\n",
    "X_train = X_train.reshape(-1, 1)\n",
    "reg.fit(X_train, y_train)"
   ]
  },
  {
   "cell_type": "code",
   "execution_count": 13,
   "metadata": {},
   "outputs": [],
   "source": [
    "X_test = X_test.reshape(-1, 1)\n",
    "y_pred = reg.predict(X_test)"
   ]
  },
  {
   "cell_type": "code",
   "execution_count": 14,
   "metadata": {},
   "outputs": [],
   "source": [
    "filename = 'baseline_model.sav'\n",
    "pickle.dump(reg, open('../backend/'+filename, 'wb'))"
   ]
  },
  {
   "cell_type": "code",
   "execution_count": 15,
   "metadata": {},
   "outputs": [
    {
     "data": {
      "text/plain": [
       "1.51240316552658"
      ]
     },
     "execution_count": 15,
     "metadata": {},
     "output_type": "execute_result"
    }
   ],
   "source": [
    "from sklearn.metrics import mean_squared_error\n",
    "mean_squared_error(y_test, y_pred)"
   ]
  },
  {
   "cell_type": "code",
   "execution_count": 16,
   "metadata": {},
   "outputs": [
    {
     "data": {
      "image/png": "[encoded data removed]",
      "text/plain": [
       "<Figure size 432x288 with 1 Axes>"
      ]
     },
     "metadata": {
      "needs_background": "light"
     },
     "output_type": "display_data"
    }
   ],
   "source": [
    "import matplotlib.pyplot as plt\n",
    "%matplotlib inline \n",
    "\n",
    "plt.scatter(X_test, y_test, color=\"black\")\n",
    "plt.scatter(X_test, y_pred, color=\"blue\", linewidth=3)\n",
    "plt.show()"
   ]
  },
  {
   "cell_type": "code",
   "execution_count": 17,
   "metadata": {},
   "outputs": [
    {
     "data": {
      "text/html": [
       "<div>\n",
       "<style scoped>\n",
       "    .dataframe tbody tr th:only-of-type {\n",
       "        vertical-align: middle;\n",
       "    }\n",
       "\n",
       "    .dataframe tbody tr th {\n",
       "        vertical-align: top;\n",
       "    }\n",
       "\n",
       "    .dataframe thead th {\n",
       "        text-align: right;\n",
       "    }\n",
       "</style>\n",
       "<table border=\"1\" class=\"dataframe\">\n",
       "  <thead>\n",
       "    <tr style=\"text-align: right;\">\n",
       "      <th></th>\n",
       "      <th>x_test</th>\n",
       "      <th>y_pred</th>\n",
       "      <th>word_freq</th>\n",
       "    </tr>\n",
       "  </thead>\n",
       "  <tbody>\n",
       "    <tr>\n",
       "      <td>108</td>\n",
       "      <td>would-be</td>\n",
       "      <td>1.399990</td>\n",
       "      <td>-6.543043</td>\n",
       "    </tr>\n",
       "    <tr>\n",
       "      <td>103</td>\n",
       "      <td>saying</td>\n",
       "      <td>2.352079</td>\n",
       "      <td>-8.403418</td>\n",
       "    </tr>\n",
       "    <tr>\n",
       "      <td>105</td>\n",
       "      <td>off-putting</td>\n",
       "      <td>3.016332</td>\n",
       "      <td>-9.701363</td>\n",
       "    </tr>\n",
       "    <tr>\n",
       "      <td>62</td>\n",
       "      <td>assembly</td>\n",
       "      <td>3.059041</td>\n",
       "      <td>-9.784816</td>\n",
       "    </tr>\n",
       "    <tr>\n",
       "      <td>77</td>\n",
       "      <td>reform</td>\n",
       "      <td>3.187527</td>\n",
       "      <td>-10.035877</td>\n",
       "    </tr>\n",
       "    <tr>\n",
       "      <td>168</td>\n",
       "      <td>fundamental</td>\n",
       "      <td>3.400318</td>\n",
       "      <td>-10.451669</td>\n",
       "    </tr>\n",
       "    <tr>\n",
       "      <td>27</td>\n",
       "      <td>proceedings</td>\n",
       "      <td>3.528428</td>\n",
       "      <td>-10.701995</td>\n",
       "    </tr>\n",
       "    <tr>\n",
       "      <td>3</td>\n",
       "      <td>transmission</td>\n",
       "      <td>3.563737</td>\n",
       "      <td>-10.770988</td>\n",
       "    </tr>\n",
       "    <tr>\n",
       "      <td>118</td>\n",
       "      <td>parallel</td>\n",
       "      <td>3.563737</td>\n",
       "      <td>-10.770988</td>\n",
       "    </tr>\n",
       "    <tr>\n",
       "      <td>81</td>\n",
       "      <td>classification</td>\n",
       "      <td>3.623102</td>\n",
       "      <td>-10.886987</td>\n",
       "    </tr>\n",
       "    <tr>\n",
       "      <td>160</td>\n",
       "      <td>implementation</td>\n",
       "      <td>3.623102</td>\n",
       "      <td>-10.886987</td>\n",
       "    </tr>\n",
       "    <tr>\n",
       "      <td>165</td>\n",
       "      <td>mercy</td>\n",
       "      <td>3.623102</td>\n",
       "      <td>-10.886987</td>\n",
       "    </tr>\n",
       "    <tr>\n",
       "      <td>185</td>\n",
       "      <td>margin</td>\n",
       "      <td>3.657044</td>\n",
       "      <td>-10.953310</td>\n",
       "    </tr>\n",
       "    <tr>\n",
       "      <td>16</td>\n",
       "      <td>fraud</td>\n",
       "      <td>3.657044</td>\n",
       "      <td>-10.953310</td>\n",
       "    </tr>\n",
       "    <tr>\n",
       "      <td>40</td>\n",
       "      <td>narrative</td>\n",
       "      <td>3.715862</td>\n",
       "      <td>-11.068240</td>\n",
       "    </tr>\n",
       "    <tr>\n",
       "      <td>148</td>\n",
       "      <td>diagnosis</td>\n",
       "      <td>3.715862</td>\n",
       "      <td>-11.068240</td>\n",
       "    </tr>\n",
       "    <tr>\n",
       "      <td>169</td>\n",
       "      <td>propaganda</td>\n",
       "      <td>3.729156</td>\n",
       "      <td>-11.094215</td>\n",
       "    </tr>\n",
       "    <tr>\n",
       "      <td>78</td>\n",
       "      <td>allied</td>\n",
       "      <td>3.833352</td>\n",
       "      <td>-11.297814</td>\n",
       "    </tr>\n",
       "    <tr>\n",
       "      <td>2</td>\n",
       "      <td>adjacent</td>\n",
       "      <td>3.833352</td>\n",
       "      <td>-11.297814</td>\n",
       "    </tr>\n",
       "    <tr>\n",
       "      <td>153</td>\n",
       "      <td>closure</td>\n",
       "      <td>3.833352</td>\n",
       "      <td>-11.297814</td>\n",
       "    </tr>\n",
       "  </tbody>\n",
       "</table>\n",
       "</div>"
      ],
      "text/plain": [
       "             x_test    y_pred  word_freq\n",
       "108        would-be  1.399990  -6.543043\n",
       "103          saying  2.352079  -8.403418\n",
       "105     off-putting  3.016332  -9.701363\n",
       "62         assembly  3.059041  -9.784816\n",
       "77           reform  3.187527 -10.035877\n",
       "168     fundamental  3.400318 -10.451669\n",
       "27      proceedings  3.528428 -10.701995\n",
       "3      transmission  3.563737 -10.770988\n",
       "118        parallel  3.563737 -10.770988\n",
       "81   classification  3.623102 -10.886987\n",
       "160  implementation  3.623102 -10.886987\n",
       "165           mercy  3.623102 -10.886987\n",
       "185          margin  3.657044 -10.953310\n",
       "16            fraud  3.657044 -10.953310\n",
       "40        narrative  3.715862 -11.068240\n",
       "148       diagnosis  3.715862 -11.068240\n",
       "169      propaganda  3.729156 -11.094215\n",
       "78           allied  3.833352 -11.297814\n",
       "2          adjacent  3.833352 -11.297814\n",
       "153         closure  3.833352 -11.297814"
      ]
     },
     "execution_count": 17,
     "metadata": {},
     "output_type": "execute_result"
    }
   ],
   "source": [
    "# check the wrong case of C2\n",
    "import pandas as pd \n",
    "pd.concat([pd.DataFrame(X_test_word[(y_test!=y_pred) & (y_test==6)], columns=['x_test']), \n",
    "          pd.DataFrame(y_pred[(y_test!=y_pred) & (y_test==6)], columns=['y_pred']),\n",
    "          pd.DataFrame(X_test[(y_test!=y_pred) & (y_test==6)], columns=['word_freq'])], axis=1).\\\n",
    "sort_values('word_freq', ascending=False).head(20)"
   ]
  },
  {
   "cell_type": "code",
   "execution_count": 18,
   "metadata": {},
   "outputs": [],
   "source": [
    "results = pd.concat([pd.DataFrame(X_test_word, columns=['word']),\n",
    "                    pd.DataFrame(y_pred, columns=['y_pred']),\n",
    "                    pd.DataFrame(y_test, columns=['y_test'])], axis=1)"
   ]
  },
  {
   "cell_type": "code",
   "execution_count": 19,
   "metadata": {},
   "outputs": [],
   "source": [
    "def roundNearInt(x):\n",
    "    if x <= 1:\n",
    "        return 1 \n",
    "    if x >= 6:\n",
    "        return 6\n",
    "    return round(x)"
   ]
  },
  {
   "cell_type": "code",
   "execution_count": 20,
   "metadata": {},
   "outputs": [
    {
     "data": {
      "text/html": [
       "<div>\n",
       "<style scoped>\n",
       "    .dataframe tbody tr th:only-of-type {\n",
       "        vertical-align: middle;\n",
       "    }\n",
       "\n",
       "    .dataframe tbody tr th {\n",
       "        vertical-align: top;\n",
       "    }\n",
       "\n",
       "    .dataframe thead th {\n",
       "        text-align: right;\n",
       "    }\n",
       "</style>\n",
       "<table border=\"1\" class=\"dataframe\">\n",
       "  <thead>\n",
       "    <tr style=\"text-align: right;\">\n",
       "      <th></th>\n",
       "      <th>word</th>\n",
       "      <th>y_pred</th>\n",
       "      <th>y_test</th>\n",
       "      <th>y_pred_class</th>\n",
       "    </tr>\n",
       "  </thead>\n",
       "  <tbody>\n",
       "    <tr>\n",
       "      <td>2</td>\n",
       "      <td>him</td>\n",
       "      <td>1.468322</td>\n",
       "      <td>1</td>\n",
       "      <td>1</td>\n",
       "    </tr>\n",
       "    <tr>\n",
       "      <td>3</td>\n",
       "      <td>soya</td>\n",
       "      <td>5.342304</td>\n",
       "      <td>5</td>\n",
       "      <td>5</td>\n",
       "    </tr>\n",
       "    <tr>\n",
       "      <td>4</td>\n",
       "      <td>bracket</td>\n",
       "      <td>4.182340</td>\n",
       "      <td>4</td>\n",
       "      <td>4</td>\n",
       "    </tr>\n",
       "    <tr>\n",
       "      <td>18</td>\n",
       "      <td>traditionally</td>\n",
       "      <td>3.833352</td>\n",
       "      <td>4</td>\n",
       "      <td>4</td>\n",
       "    </tr>\n",
       "    <tr>\n",
       "      <td>22</td>\n",
       "      <td>mind</td>\n",
       "      <td>2.247144</td>\n",
       "      <td>2</td>\n",
       "      <td>2</td>\n",
       "    </tr>\n",
       "    <tr>\n",
       "      <td>...</td>\n",
       "      <td>...</td>\n",
       "      <td>...</td>\n",
       "      <td>...</td>\n",
       "      <td>...</td>\n",
       "    </tr>\n",
       "    <tr>\n",
       "      <td>1307</td>\n",
       "      <td>trend</td>\n",
       "      <td>3.364420</td>\n",
       "      <td>3</td>\n",
       "      <td>3</td>\n",
       "    </tr>\n",
       "    <tr>\n",
       "      <td>1309</td>\n",
       "      <td>terrifying</td>\n",
       "      <td>4.101704</td>\n",
       "      <td>4</td>\n",
       "      <td>4</td>\n",
       "    </tr>\n",
       "    <tr>\n",
       "      <td>1310</td>\n",
       "      <td>gay</td>\n",
       "      <td>2.941039</td>\n",
       "      <td>3</td>\n",
       "      <td>3</td>\n",
       "    </tr>\n",
       "    <tr>\n",
       "      <td>1311</td>\n",
       "      <td>inspiration</td>\n",
       "      <td>3.551695</td>\n",
       "      <td>4</td>\n",
       "      <td>4</td>\n",
       "    </tr>\n",
       "    <tr>\n",
       "      <td>1318</td>\n",
       "      <td>shyness</td>\n",
       "      <td>5.147553</td>\n",
       "      <td>5</td>\n",
       "      <td>5</td>\n",
       "    </tr>\n",
       "  </tbody>\n",
       "</table>\n",
       "<p>448 rows × 4 columns</p>\n",
       "</div>"
      ],
      "text/plain": [
       "               word    y_pred  y_test  y_pred_class\n",
       "2               him  1.468322       1             1\n",
       "3              soya  5.342304       5             5\n",
       "4           bracket  4.182340       4             4\n",
       "18    traditionally  3.833352       4             4\n",
       "22             mind  2.247144       2             2\n",
       "...             ...       ...     ...           ...\n",
       "1307          trend  3.364420       3             3\n",
       "1309     terrifying  4.101704       4             4\n",
       "1310            gay  2.941039       3             3\n",
       "1311    inspiration  3.551695       4             4\n",
       "1318        shyness  5.147553       5             5\n",
       "\n",
       "[448 rows x 4 columns]"
      ]
     },
     "execution_count": 20,
     "metadata": {},
     "output_type": "execute_result"
    }
   ],
   "source": [
    "results['y_pred_class'] = results['y_pred'].apply(lambda x: roundNearInt(x))\n",
    "results[results['y_pred_class']==results['y_test']]"
   ]
  },
  {
   "cell_type": "code",
   "execution_count": 21,
   "metadata": {},
   "outputs": [
    {
     "data": {
      "text/plain": [
       "0.33913701741105223"
      ]
     },
     "execution_count": 21,
     "metadata": {},
     "output_type": "execute_result"
    }
   ],
   "source": [
    "448/1321"
   ]
  },
  {
   "cell_type": "code",
   "execution_count": 22,
   "metadata": {},
   "outputs": [
    {
     "data": {
      "text/html": [
       "<div>\n",
       "<style scoped>\n",
       "    .dataframe tbody tr th:only-of-type {\n",
       "        vertical-align: middle;\n",
       "    }\n",
       "\n",
       "    .dataframe tbody tr th {\n",
       "        vertical-align: top;\n",
       "    }\n",
       "\n",
       "    .dataframe thead th {\n",
       "        text-align: right;\n",
       "    }\n",
       "</style>\n",
       "<table border=\"1\" class=\"dataframe\">\n",
       "  <thead>\n",
       "    <tr style=\"text-align: right;\">\n",
       "      <th></th>\n",
       "      <th>word</th>\n",
       "      <th>y_pred</th>\n",
       "      <th>y_test</th>\n",
       "      <th>y_pred_class</th>\n",
       "    </tr>\n",
       "  </thead>\n",
       "  <tbody>\n",
       "    <tr>\n",
       "      <td>0</td>\n",
       "      <td>accountant</td>\n",
       "      <td>4.333118</td>\n",
       "      <td>3</td>\n",
       "      <td>4</td>\n",
       "    </tr>\n",
       "    <tr>\n",
       "      <td>1</td>\n",
       "      <td>influential</td>\n",
       "      <td>3.821118</td>\n",
       "      <td>5</td>\n",
       "      <td>4</td>\n",
       "    </tr>\n",
       "    <tr>\n",
       "      <td>2</td>\n",
       "      <td>him</td>\n",
       "      <td>1.468322</td>\n",
       "      <td>1</td>\n",
       "      <td>1</td>\n",
       "    </tr>\n",
       "    <tr>\n",
       "      <td>3</td>\n",
       "      <td>soya</td>\n",
       "      <td>5.342304</td>\n",
       "      <td>5</td>\n",
       "      <td>5</td>\n",
       "    </tr>\n",
       "    <tr>\n",
       "      <td>4</td>\n",
       "      <td>bracket</td>\n",
       "      <td>4.182340</td>\n",
       "      <td>4</td>\n",
       "      <td>4</td>\n",
       "    </tr>\n",
       "    <tr>\n",
       "      <td>...</td>\n",
       "      <td>...</td>\n",
       "      <td>...</td>\n",
       "      <td>...</td>\n",
       "      <td>...</td>\n",
       "    </tr>\n",
       "    <tr>\n",
       "      <td>1316</td>\n",
       "      <td>sell</td>\n",
       "      <td>2.882447</td>\n",
       "      <td>2</td>\n",
       "      <td>3</td>\n",
       "    </tr>\n",
       "    <tr>\n",
       "      <td>1317</td>\n",
       "      <td>run</td>\n",
       "      <td>2.211228</td>\n",
       "      <td>1</td>\n",
       "      <td>2</td>\n",
       "    </tr>\n",
       "    <tr>\n",
       "      <td>1318</td>\n",
       "      <td>shyness</td>\n",
       "      <td>5.147553</td>\n",
       "      <td>5</td>\n",
       "      <td>5</td>\n",
       "    </tr>\n",
       "    <tr>\n",
       "      <td>1319</td>\n",
       "      <td>bear</td>\n",
       "      <td>3.082286</td>\n",
       "      <td>2</td>\n",
       "      <td>3</td>\n",
       "    </tr>\n",
       "    <tr>\n",
       "      <td>1320</td>\n",
       "      <td>gorgeous</td>\n",
       "      <td>3.706114</td>\n",
       "      <td>3</td>\n",
       "      <td>4</td>\n",
       "    </tr>\n",
       "  </tbody>\n",
       "</table>\n",
       "<p>1321 rows × 4 columns</p>\n",
       "</div>"
      ],
      "text/plain": [
       "             word    y_pred  y_test  y_pred_class\n",
       "0      accountant  4.333118       3             4\n",
       "1     influential  3.821118       5             4\n",
       "2             him  1.468322       1             1\n",
       "3            soya  5.342304       5             5\n",
       "4         bracket  4.182340       4             4\n",
       "...           ...       ...     ...           ...\n",
       "1316         sell  2.882447       2             3\n",
       "1317          run  2.211228       1             2\n",
       "1318      shyness  5.147553       5             5\n",
       "1319         bear  3.082286       2             3\n",
       "1320     gorgeous  3.706114       3             4\n",
       "\n",
       "[1321 rows x 4 columns]"
      ]
     },
     "execution_count": 22,
     "metadata": {},
     "output_type": "execute_result"
    }
   ],
   "source": [
    "results"
   ]
  },
  {
   "cell_type": "code",
   "execution_count": 23,
   "metadata": {},
   "outputs": [
    {
     "data": {
      "text/html": [
       "<div>\n",
       "<style scoped>\n",
       "    .dataframe tbody tr th:only-of-type {\n",
       "        vertical-align: middle;\n",
       "    }\n",
       "\n",
       "    .dataframe tbody tr th {\n",
       "        vertical-align: top;\n",
       "    }\n",
       "\n",
       "    .dataframe thead th {\n",
       "        text-align: right;\n",
       "    }\n",
       "</style>\n",
       "<table border=\"1\" class=\"dataframe\">\n",
       "  <thead>\n",
       "    <tr style=\"text-align: right;\">\n",
       "      <th></th>\n",
       "      <th>word</th>\n",
       "      <th>y_pred</th>\n",
       "      <th>y_test</th>\n",
       "      <th>y_pred_class</th>\n",
       "    </tr>\n",
       "  </thead>\n",
       "  <tbody>\n",
       "    <tr>\n",
       "      <td>788</td>\n",
       "      <td>work</td>\n",
       "      <td>1.645646</td>\n",
       "      <td>1</td>\n",
       "      <td>2</td>\n",
       "    </tr>\n",
       "    <tr>\n",
       "      <td>488</td>\n",
       "      <td>misinform</td>\n",
       "      <td>6.128776</td>\n",
       "      <td>5</td>\n",
       "      <td>6</td>\n",
       "    </tr>\n",
       "    <tr>\n",
       "      <td>688</td>\n",
       "      <td>long</td>\n",
       "      <td>1.810182</td>\n",
       "      <td>1</td>\n",
       "      <td>2</td>\n",
       "    </tr>\n",
       "    <tr>\n",
       "      <td>1132</td>\n",
       "      <td>tiger</td>\n",
       "      <td>3.576070</td>\n",
       "      <td>3</td>\n",
       "      <td>4</td>\n",
       "    </tr>\n",
       "    <tr>\n",
       "      <td>277</td>\n",
       "      <td>musician</td>\n",
       "      <td>3.973476</td>\n",
       "      <td>3</td>\n",
       "      <td>4</td>\n",
       "    </tr>\n",
       "    <tr>\n",
       "      <td>101</td>\n",
       "      <td>dot</td>\n",
       "      <td>3.913620</td>\n",
       "      <td>3</td>\n",
       "      <td>4</td>\n",
       "    </tr>\n",
       "    <tr>\n",
       "      <td>96</td>\n",
       "      <td>convince</td>\n",
       "      <td>3.657044</td>\n",
       "      <td>3</td>\n",
       "      <td>4</td>\n",
       "    </tr>\n",
       "    <tr>\n",
       "      <td>52</td>\n",
       "      <td>nightmare</td>\n",
       "      <td>3.786078</td>\n",
       "      <td>3</td>\n",
       "      <td>4</td>\n",
       "    </tr>\n",
       "    <tr>\n",
       "      <td>301</td>\n",
       "      <td>walking</td>\n",
       "      <td>2.952720</td>\n",
       "      <td>2</td>\n",
       "      <td>3</td>\n",
       "    </tr>\n",
       "    <tr>\n",
       "      <td>1104</td>\n",
       "      <td>perhaps</td>\n",
       "      <td>2.671307</td>\n",
       "      <td>2</td>\n",
       "      <td>3</td>\n",
       "    </tr>\n",
       "    <tr>\n",
       "      <td>236</td>\n",
       "      <td>yes</td>\n",
       "      <td>2.176047</td>\n",
       "      <td>1</td>\n",
       "      <td>2</td>\n",
       "    </tr>\n",
       "    <tr>\n",
       "      <td>341</td>\n",
       "      <td>magazine</td>\n",
       "      <td>3.175974</td>\n",
       "      <td>2</td>\n",
       "      <td>3</td>\n",
       "    </tr>\n",
       "    <tr>\n",
       "      <td>1063</td>\n",
       "      <td>mother</td>\n",
       "      <td>2.433602</td>\n",
       "      <td>1</td>\n",
       "      <td>2</td>\n",
       "    </tr>\n",
       "    <tr>\n",
       "      <td>915</td>\n",
       "      <td>pull</td>\n",
       "      <td>3.035068</td>\n",
       "      <td>2</td>\n",
       "      <td>3</td>\n",
       "    </tr>\n",
       "    <tr>\n",
       "      <td>252</td>\n",
       "      <td>fiction</td>\n",
       "      <td>3.528428</td>\n",
       "      <td>3</td>\n",
       "      <td>4</td>\n",
       "    </tr>\n",
       "    <tr>\n",
       "      <td>1286</td>\n",
       "      <td>hire</td>\n",
       "      <td>3.576070</td>\n",
       "      <td>3</td>\n",
       "      <td>4</td>\n",
       "    </tr>\n",
       "    <tr>\n",
       "      <td>766</td>\n",
       "      <td>weigh</td>\n",
       "      <td>3.961673</td>\n",
       "      <td>3</td>\n",
       "      <td>4</td>\n",
       "    </tr>\n",
       "    <tr>\n",
       "      <td>239</td>\n",
       "      <td>night</td>\n",
       "      <td>2.034149</td>\n",
       "      <td>1</td>\n",
       "      <td>2</td>\n",
       "    </tr>\n",
       "    <tr>\n",
       "      <td>103</td>\n",
       "      <td>compete</td>\n",
       "      <td>3.528428</td>\n",
       "      <td>3</td>\n",
       "      <td>4</td>\n",
       "    </tr>\n",
       "    <tr>\n",
       "      <td>38</td>\n",
       "      <td>popular</td>\n",
       "      <td>2.739583</td>\n",
       "      <td>2</td>\n",
       "      <td>3</td>\n",
       "    </tr>\n",
       "    <tr>\n",
       "      <td>19</td>\n",
       "      <td>unusual</td>\n",
       "      <td>3.388070</td>\n",
       "      <td>2</td>\n",
       "      <td>3</td>\n",
       "    </tr>\n",
       "    <tr>\n",
       "      <td>168</td>\n",
       "      <td>competitor</td>\n",
       "      <td>4.124517</td>\n",
       "      <td>3</td>\n",
       "      <td>4</td>\n",
       "    </tr>\n",
       "    <tr>\n",
       "      <td>1234</td>\n",
       "      <td>oh</td>\n",
       "      <td>2.199230</td>\n",
       "      <td>1</td>\n",
       "      <td>2</td>\n",
       "    </tr>\n",
       "    <tr>\n",
       "      <td>111</td>\n",
       "      <td>resort</td>\n",
       "      <td>3.528428</td>\n",
       "      <td>3</td>\n",
       "      <td>4</td>\n",
       "    </tr>\n",
       "    <tr>\n",
       "      <td>1064</td>\n",
       "      <td>inexpensive</td>\n",
       "      <td>4.378944</td>\n",
       "      <td>3</td>\n",
       "      <td>4</td>\n",
       "    </tr>\n",
       "    <tr>\n",
       "      <td>868</td>\n",
       "      <td>sunrise</td>\n",
       "      <td>4.159201</td>\n",
       "      <td>3</td>\n",
       "      <td>4</td>\n",
       "    </tr>\n",
       "    <tr>\n",
       "      <td>653</td>\n",
       "      <td>bleed</td>\n",
       "      <td>4.287037</td>\n",
       "      <td>3</td>\n",
       "      <td>4</td>\n",
       "    </tr>\n",
       "    <tr>\n",
       "      <td>1202</td>\n",
       "      <td>business</td>\n",
       "      <td>2.140102</td>\n",
       "      <td>1</td>\n",
       "      <td>2</td>\n",
       "    </tr>\n",
       "    <tr>\n",
       "      <td>1082</td>\n",
       "      <td>wheel</td>\n",
       "      <td>3.329331</td>\n",
       "      <td>2</td>\n",
       "      <td>3</td>\n",
       "    </tr>\n",
       "    <tr>\n",
       "      <td>218</td>\n",
       "      <td>dolphin</td>\n",
       "      <td>4.344195</td>\n",
       "      <td>3</td>\n",
       "      <td>4</td>\n",
       "    </tr>\n",
       "  </tbody>\n",
       "</table>\n",
       "</div>"
      ],
      "text/plain": [
       "             word    y_pred  y_test  y_pred_class\n",
       "788          work  1.645646       1             2\n",
       "488     misinform  6.128776       5             6\n",
       "688          long  1.810182       1             2\n",
       "1132        tiger  3.576070       3             4\n",
       "277      musician  3.973476       3             4\n",
       "101           dot  3.913620       3             4\n",
       "96       convince  3.657044       3             4\n",
       "52      nightmare  3.786078       3             4\n",
       "301       walking  2.952720       2             3\n",
       "1104      perhaps  2.671307       2             3\n",
       "236           yes  2.176047       1             2\n",
       "341      magazine  3.175974       2             3\n",
       "1063       mother  2.433602       1             2\n",
       "915          pull  3.035068       2             3\n",
       "252       fiction  3.528428       3             4\n",
       "1286         hire  3.576070       3             4\n",
       "766         weigh  3.961673       3             4\n",
       "239         night  2.034149       1             2\n",
       "103       compete  3.528428       3             4\n",
       "38        popular  2.739583       2             3\n",
       "19        unusual  3.388070       2             3\n",
       "168    competitor  4.124517       3             4\n",
       "1234           oh  2.199230       1             2\n",
       "111        resort  3.528428       3             4\n",
       "1064  inexpensive  4.378944       3             4\n",
       "868       sunrise  4.159201       3             4\n",
       "653         bleed  4.287037       3             4\n",
       "1202     business  2.140102       1             2\n",
       "1082        wheel  3.329331       2             3\n",
       "218       dolphin  4.344195       3             4"
      ]
     },
     "execution_count": 23,
     "metadata": {},
     "output_type": "execute_result"
    }
   ],
   "source": [
    "results[(results['y_pred_class']-results['y_test'])==1|\n",
    "        (results['y_pred_class']-results['y_test']==-1)].sample(30)"
   ]
  },
  {
   "cell_type": "code",
   "execution_count": 24,
   "metadata": {},
   "outputs": [
    {
     "data": {
      "text/plain": [
       "0.5473126419379258"
      ]
     },
     "execution_count": 24,
     "metadata": {},
     "output_type": "execute_result"
    }
   ],
   "source": [
    "## within one class accuracy \n",
    "(448+275)/1321"
   ]
  },
  {
   "cell_type": "code",
   "execution_count": 25,
   "metadata": {},
   "outputs": [
    {
     "data": {
      "text/plain": [
       "0.000518"
      ]
     },
     "execution_count": 25,
     "metadata": {},
     "output_type": "execute_result"
    }
   ],
   "source": [
    "word_frequency('i-am-not', 'en')"
   ]
  }
 ],
 "metadata": {
  "kernelspec": {
   "display_name": "Python 3",
   "language": "python",
   "name": "python3"
  },
  "language_info": {
   "codemirror_mode": {
    "name": "ipython",
    "version": 3
   },
   "file_extension": ".py",
   "mimetype": "text/x-python",
   "name": "python",
   "nbconvert_exporter": "python",
   "pygments_lexer": "ipython3",
   "version": "3.7.4"
  }
 },
 "nbformat": 4,
 "nbformat_minor": 4
}
